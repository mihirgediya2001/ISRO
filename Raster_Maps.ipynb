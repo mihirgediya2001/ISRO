{
  "cells": [
    {
      "cell_type": "code",
      "execution_count": null,
      "metadata": {
        "colab": {
          "base_uri": "https://localhost:8080/"
        },
        "id": "EIEZ5yQlj2NR",
        "outputId": "d09cb89b-ede5-4e01-d2c3-489fa8e54b68"
      },
      "outputs": [],
      "source": [
        "!wget http://luna1.diviner.ucla.edu/~jpierre/diviner/level4_raster_data/diviner_c6_c8_hour_20_04.xyz"
      ]
    },
    {
      "cell_type": "code",
      "execution_count": null,
      "metadata": {
        "id": "W0k8tnRIkL8p"
      },
      "outputs": [],
      "source": [
        "import matplotlib.pyplot as plt\n",
        "import numpy as np"
      ]
    },
    {
      "cell_type": "code",
      "execution_count": null,
      "metadata": {
        "id": "dSLrVYWGlKRU"
      },
      "outputs": [],
      "source": [
        "input_data = np.loadtxt(\"/content/diviner_c6_c8_hour_20_04.xyz\", dtype=float)"
      ]
    },
    {
      "cell_type": "code",
      "execution_count": null,
      "metadata": {
        "colab": {
          "base_uri": "https://localhost:8080/"
        },
        "id": "SrT-djBsybBh",
        "outputId": "de18e625-6176-4406-dee6-2d27f658f7fa"
      },
      "outputs": [],
      "source": [
        "input_data.shape"
      ]
    },
    {
      "cell_type": "code",
      "execution_count": null,
      "metadata": {
        "id": "wFtaAQrisS5u"
      },
      "outputs": [],
      "source": [
        "X = np.unique(input_data[:,0])\n",
        "Y = np.unique(input_data[:,1])"
      ]
    },
    {
      "cell_type": "code",
      "execution_count": null,
      "metadata": {
        "colab": {
          "base_uri": "https://localhost:8080/"
        },
        "id": "JB8PAlwOldIa",
        "outputId": "086da19a-9643-47bb-c708-cfd7203e0eb2"
      },
      "outputs": [],
      "source": [
        "Z = np.zeros([Y.size, X.size])\n",
        "Z.shape"
      ]
    },
    {
      "cell_type": "code",
      "execution_count": null,
      "metadata": {
        "id": "CRFrDSavzq4R"
      },
      "outputs": [],
      "source": [
        "count = 0\n",
        "for i in range(X.size):\n",
        "  for j in range(Y.size):\n",
        "    Z[j, i] = input_data[count][2]\n",
        "    count += 1 "
      ]
    },
    {
      "cell_type": "code",
      "execution_count": null,
      "metadata": {
        "colab": {
          "base_uri": "https://localhost:8080/",
          "height": 282
        },
        "id": "cutHPKML08F8",
        "outputId": "7b982b20-0115-4af6-be1c-32d3c209e21f"
      },
      "outputs": [],
      "source": [
        "levels = np.linspace(0.,15.)\n",
        "plt.contourf(X, Y, Z, cmap=\"jet\",levels=levels)\n",
        "plt.colorbar()"
      ]
    },
    {
      "cell_type": "code",
      "execution_count": null,
      "metadata": {
        "id": "ggO_QxYM4w_Y"
      },
      "outputs": [],
      "source": []
    }
  ],
  "metadata": {
    "colab": {
      "name": "Raster Maps.ipynb",
      "provenance": []
    },
    "kernelspec": {
      "display_name": "Python 3",
      "name": "python3"
    },
    "language_info": {
      "codemirror_mode": {
        "name": "ipython",
        "version": 3
      },
      "file_extension": ".py",
      "mimetype": "text/x-python",
      "name": "python",
      "nbconvert_exporter": "python",
      "pygments_lexer": "ipython3",
      "version": "3.9.5"
    }
  },
  "nbformat": 4,
  "nbformat_minor": 0
}
